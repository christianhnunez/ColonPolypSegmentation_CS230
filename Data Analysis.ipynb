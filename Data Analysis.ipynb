{
 "cells": [
  {
   "cell_type": "markdown",
   "metadata": {},
   "source": [
    "# Utilities for Data Analysis"
   ]
  },
  {
   "cell_type": "code",
   "execution_count": 82,
   "metadata": {},
   "outputs": [
    {
     "name": "stdout",
     "output_type": "stream",
     "text": [
      "2.1.6-tf\n"
     ]
    }
   ],
   "source": [
    "# Imports\n",
    "from __future__ import division\n",
    "import os\n",
    "import sys\n",
    "import random\n",
    "import numpy as np\n",
    "import cv2\n",
    "import matplotlib.pyplot as plt\n",
    "import tensorflow as tf\n",
    "from tensorflow import keras\n",
    "from PIL import Image\n",
    "import matplotlib.pyplot as plt\n",
    "import json,codecs\n",
    "plt.rcParams['figure.figsize'] = [16, 12]\n",
    "plt.rcParams['font.size'] = 20\n",
    "\n",
    "## Seeding \n",
    "seed = 2019\n",
    "random.seed = seed\n",
    "#np.random.seed = seed\n",
    "tf.seed = seed\n",
    "\n",
    "print(keras.__version__)"
   ]
  },
  {
   "cell_type": "markdown",
   "metadata": {},
   "source": [
    "# Utilities and U-Net Model"
   ]
  },
  {
   "cell_type": "code",
   "execution_count": 2,
   "metadata": {},
   "outputs": [],
   "source": [
    "def saveHist(path,history):\n",
    "    new_hist = {}\n",
    "    for key in list(history.history.keys()):\n",
    "        if type(history.history[key]) == np.ndarray:\n",
    "            new_hist[key] == history.history[key].tolist()\n",
    "        elif type(history.history[key]) == list:\n",
    "           if  type(history.history[key][0]) == np.float64:\n",
    "               new_hist[key] = list(map(float, history.history[key]))\n",
    "\n",
    "    print(new_hist)\n",
    "    with codecs.open(path, 'w', encoding='utf-8') as f:\n",
    "        json.dump(new_hist, f, separators=(',', ':'), sort_keys=True, indent=4) \n",
    "\n",
    "def loadHist(path):\n",
    "    with codecs.open(path, 'r', encoding='utf-8') as f:\n",
    "        n = json.loads(f.read())\n",
    "    return n"
   ]
  },
  {
   "cell_type": "code",
   "execution_count": 3,
   "metadata": {},
   "outputs": [],
   "source": [
    "def down_block(x, filters, kernel_size=(3, 3), padding=\"same\", strides=1):\n",
    "    c = keras.layers.Conv2D(filters, kernel_size, padding=padding, strides=strides, activation=\"relu\")(x)\n",
    "    c = keras.layers.Conv2D(filters, kernel_size, padding=padding, strides=strides, activation=\"relu\")(c)\n",
    "    p = keras.layers.MaxPool2D((2, 2), (2, 2))(c)\n",
    "    return c, p\n",
    "\n",
    "def up_block(x, skip, filters, kernel_size=(3, 3), padding=\"same\", strides=1):\n",
    "    us = keras.layers.UpSampling2D((2, 2))(x)\n",
    "    concat = keras.layers.Concatenate()([us, skip])\n",
    "    c = keras.layers.Conv2D(filters, kernel_size, padding=padding, strides=strides, activation=\"relu\")(concat)\n",
    "    c = keras.layers.Conv2D(filters, kernel_size, padding=padding, strides=strides, activation=\"relu\")(c)\n",
    "    return c\n",
    "\n",
    "def bottleneck(x, filters, kernel_size=(3, 3), padding=\"same\", strides=1):\n",
    "    c = keras.layers.Conv2D(filters, kernel_size, padding=padding, strides=strides, activation=\"relu\")(x)\n",
    "    c = keras.layers.Conv2D(filters, kernel_size, padding=padding, strides=strides, activation=\"relu\")(c)\n",
    "    return c\n",
    "\n",
    "def UNet():\n",
    "    f = [16, 32, 64, 128, 256]\n",
    "    inputs = keras.layers.Input((image_size, image_size, 3))\n",
    "    \n",
    "    p0 = inputs\n",
    "    c1, p1 = down_block(p0, f[0]) #128 -> 64\n",
    "    c2, p2 = down_block(p1, f[1]) #64 -> 32\n",
    "    c3, p3 = down_block(p2, f[2]) #32 -> 16\n",
    "    c4, p4 = down_block(p3, f[3]) #16->8\n",
    "    \n",
    "    bn = bottleneck(p4, f[4])\n",
    "    \n",
    "    u1 = up_block(bn, c4, f[3]) #8 -> 16\n",
    "    u2 = up_block(u1, c3, f[2]) #16 -> 32\n",
    "    u3 = up_block(u2, c2, f[1]) #32 -> 64\n",
    "    u4 = up_block(u3, c1, f[0]) #64 -> 128\n",
    "    \n",
    "    outputs = keras.layers.Conv2D(1, (1, 1), padding=\"same\", activation=\"sigmoid\")(u4)\n",
    "    model = keras.models.Model(inputs, outputs)\n",
    "    return model\n",
    "\n",
    "\n",
    "# Metric and Loss\n",
    "smooth = 1\n",
    "def dice_coef(y_true, y_pred):\n",
    "    y_true_f = keras.backend.flatten(y_true)\n",
    "    y_pred_f = keras.backend.flatten(y_pred)\n",
    "    intersection = keras.backend.sum(y_true_f * y_pred_f)\n",
    "    return (2. * intersection + smooth) / (keras.backend.sum(y_true_f) + keras.backend.sum(y_pred_f) + smooth)\n",
    "\n",
    "def dice_coef_loss(y_true, y_pred):\n",
    "    return -dice_coef(y_true, y_pred)\n"
   ]
  },
  {
   "cell_type": "markdown",
   "metadata": {},
   "source": [
    "## Learning Rate Tuning"
   ]
  },
  {
   "cell_type": "code",
   "execution_count": 103,
   "metadata": {},
   "outputs": [
    {
     "data": {
      "text/plain": [
       "[-0.23239551235185607,\n",
       " 0.23239551235185607,\n",
       " 0.8826596718134843,\n",
       " 0.1119139116316095]"
      ]
     },
     "execution_count": 103,
     "metadata": {},
     "output_type": "execute_result"
    }
   ],
   "source": [
    "weight_path = '/Users/ChristianHaroldNunez/Desktop/colons'\n",
    "lr_weight = '20_lr0001.h5'\n",
    "\n",
    "model = UNet()\n",
    "adam = keras.optimizers.Adam(lr=.0001)\n",
    "model.compile(optimizer=adam, loss=dice_coef_loss, metrics=[dice_coef, \"binary_accuracy\", 'mse'])\n",
    "model.load_weights(weightpath+lr_weight)\n",
    "evaluation_lr = model.evaluate_generator(test_generator, steps=127)\n",
    "evaluation_lr"
   ]
  },
  {
   "cell_type": "markdown",
   "metadata": {},
   "source": [
    "## Optimization Algorithm Tuning"
   ]
  },
  {
   "cell_type": "code",
   "execution_count": 41,
   "metadata": {},
   "outputs": [
    {
     "data": {
      "text/plain": [
       "[u'loss',\n",
       " u'val_binary_accuracy',\n",
       " u'val_dice_coef',\n",
       " u'val_mean_squared_error',\n",
       " u'binary_accuracy',\n",
       " u'mean_squared_error',\n",
       " u'val_loss',\n",
       " u'dice_coef']"
      ]
     },
     "execution_count": 41,
     "metadata": {},
     "output_type": "execute_result"
    }
   ],
   "source": [
    "weights = ['data_aug_HP2_60.h5', 'data_aug_HP2_rmsprop_60.h5', 'data_aug_HP2_sgdmom99_60.h5']\n",
    "histlist = ['history_adam_60.json','history_rmsprop_60.json','history_sgdmom99_60.json']\n",
    "names = ['Adam', 'RMSprop', 'SGD (beta1=.99)']\n",
    "histpath = '/Users/ChristianHaroldNunez/Desktop/colons/CVC-ClinicDB/HP2/'\n",
    "weightpath = '/Users/ChristianHaroldNunez/Desktop/colons/'\n",
    "\n",
    "histories = []\n",
    "for h in histlist:\n",
    "    histories.append(loadHist(histpath+h))\n",
    "    \n",
    "histories[1].keys()"
   ]
  },
  {
   "cell_type": "markdown",
   "metadata": {},
   "source": [
    "# Test Set"
   ]
  },
  {
   "cell_type": "code",
   "execution_count": 5,
   "metadata": {},
   "outputs": [],
   "source": [
    "#weights = ['data_aug_HP4_dataaug2_adam_60.h5', 'data_aug_HP4_dataaug2_adam_60_120_120.h5', 'data_aug_HP4_dataaug2_adam_60_120_120.h5']\n",
    "weights = ['data_aug_HP4_dataaug2_adam_60_120_120.h5']\n",
    "histlist = ['data_aug_HP4_dataaug2_adam_60.json', 'data_aug_HP4_dataaug2_adam_60_120.json','data_aug_HP4_dataaug2_adam_60_120_120.json']\n",
    "names = ['Adam', 's', 's']\n",
    "histpath = '/Users/ChristianHaroldNunez/Desktop/colons/CVC-ClinicDB/HP4/'\n",
    "weightpath = '/Users/ChristianHaroldNunez/Desktop/colons/'\n",
    "\n",
    "#histories = []\n",
    "#for h in histlist:\n",
    "#    histories.append(loadHist(histpath+h))\n",
    "    \n",
    "#histories[0].keys()"
   ]
  },
  {
   "cell_type": "code",
   "execution_count": 6,
   "metadata": {},
   "outputs": [
    {
     "name": "stderr",
     "output_type": "stream",
     "text": [
      "Using TensorFlow backend.\n"
     ]
    },
    {
     "name": "stdout",
     "output_type": "stream",
     "text": [
      "Found 127 images belonging to 1 classes.\n",
      "Found 127 images belonging to 1 classes.\n"
     ]
    }
   ],
   "source": [
    "from keras.preprocessing.image import ImageDataGenerator, array_to_img, img_to_array, load_img\n",
    "\n",
    "def combineGenerator(gen1, gen2):\n",
    "    while True:\n",
    "        yield(gen1.next()[0], gen2.next()[0])\n",
    "\n",
    "epochs = 30\n",
    "batch_size = 1\n",
    "image_size = 128\n",
    "data_aug_path = '/Users/ChristianHaroldNunez/Desktop/colons/CVC-ClinicDB/data_aug2/'\n",
    "\n",
    "seed1 = 230\n",
    "\n",
    "# Making image data for VALIDATION images\n",
    "test_image_datagen = ImageDataGenerator(rescale=1./255)\n",
    "test_mask_datagen = ImageDataGenerator(rescale=1./255)\n",
    "\n",
    "test_image_generator = test_image_datagen.flow_from_directory(data_aug_path+'test/Org_upper',\n",
    "    target_size=(image_size, image_size),\n",
    "    batch_size=1,\n",
    "    seed=seed1)\n",
    "\n",
    "filenames = test_image_generator.filenames\n",
    "nb_samples = len(filenames)\n",
    "\n",
    "test_mask_generator = test_mask_datagen.flow_from_directory(data_aug_path+'test/GT_upper',\n",
    "    target_size=(image_size, image_size),\n",
    "    batch_size=1,\n",
    "    seed=seed1,\n",
    "    color_mode='grayscale')\n",
    "\n",
    "test_generator = combineGenerator(test_image_generator, test_mask_generator)"
   ]
  },
  {
   "cell_type": "code",
   "execution_count": 7,
   "metadata": {},
   "outputs": [],
   "source": [
    "model = UNet()\n",
    "adam = keras.optimizers.Adam(lr=.0001)\n",
    "model.compile(optimizer=adam, loss=dice_coef_loss, metrics=[dice_coef, \"binary_accuracy\", 'mse'])\n",
    "\n",
    "# Predictions is (127,128,128,1) array holding all predictions for every test item. \n",
    "predictions = []\n",
    "for weight in weights:\n",
    "   print(weight)\n",
    "   model.load_weights(weightpath+weight)\n",
    "   predictions.append(model.predict_generator(test_generator, steps=nb_samples))"
   ]
  },
  {
   "cell_type": "code",
   "execution_count": 115,
   "metadata": {},
   "outputs": [
    {
     "name": "stdout",
     "output_type": "stream",
     "text": [
      "data_aug_HP4_dataaug2_adam_60.h5\n",
      "data_aug_HP4_dataaug2_adam_60_120_120.h5\n",
      "data_aug_HP4_dataaug2_adam_60_120_120.h5\n",
      "[[-0.3771350041575415, 0.3771350041575415, 0.922610305425689, 0.0758484374790445], [-0.4604051164610359, 0.4604051164610359, 0.9393877645177166, 0.05928351006316623], [-0.480226320814521, 0.480226320814521, 0.941949799304872, 0.05679889194535341]]\n"
     ]
    }
   ],
   "source": [
    "evals = []\n",
    "for weight in weights:\n",
    "    print(weight)\n",
    "    model.load_weights(weightpath+weight)\n",
    "    evals.append(model.evaluate_generator(test_generator, steps=127))\n",
    "    \n",
    "print(evals)"
   ]
  },
  {
   "cell_type": "code",
   "execution_count": null,
   "metadata": {},
   "outputs": [],
   "source": [
    "for i in range(0, len(histories)):\n",
    "    print(histories[i][\"dice_coef\"])\n",
    "    #plt.plot(histories[i][\"val_dice_coef\"], marker=\"o\", label=names[i])"
   ]
  },
  {
   "cell_type": "markdown",
   "metadata": {},
   "source": [
    "# Easier viewing of predictions"
   ]
  },
  {
   "cell_type": "code",
   "execution_count": 41,
   "metadata": {},
   "outputs": [],
   "source": [
    "# Custom data generator -- easier to manage than ImageDataGenerator for error analysis\n",
    "class DataGen(keras.utils.Sequence):\n",
    "    def __init__(self, ids, path, batch_size=8, image_size=128):\n",
    "        self.ids = ids\n",
    "        self.path = path\n",
    "        self.batch_size = batch_size\n",
    "        self.image_size = image_size\n",
    "        self.on_epoch_end()\n",
    "     \n",
    "    def __load__(self, id_name):\n",
    "        ## Path\n",
    "        image_path = os.path.join(self.path, \"Org\", id_name) + \".png\"\n",
    "        mask_path = os.path.join(self.path, \"GT\", id_name) + \".png\"\n",
    "        \n",
    "        ## Reading Image\n",
    "        image = cv2.imread(image_path, 1)\n",
    "        image = cv2.resize(image, (self.image_size, self.image_size))\n",
    "        #image = np.expand_dims(image, axis=-1)\n",
    "        \n",
    "        ## Reading Masks\n",
    "        mask = cv2.imread(mask_path, 0)\n",
    "        mask = cv2.resize(mask, (self.image_size, self.image_size))\n",
    "        mask = np.expand_dims(mask, axis=-1)\n",
    "        #mask = np.maximum(np.zeros((self.image_size, self.image_size, 1)), mask)\n",
    "                    \n",
    "        ## Normalizaing \n",
    "        image = image/255.0\n",
    "        mask = mask/255.0\n",
    "        \n",
    "        return image, mask\n",
    "    \n",
    "    def __getitem__(self, index):\n",
    "        if(index+1)*self.batch_size > len(self.ids):\n",
    "            self.batch_size = len(self.ids) - index*self.batch_size\n",
    "        \n",
    "        files_batch = self.ids[index*self.batch_size : (index+1)*self.batch_size]\n",
    "        \n",
    "        image = []\n",
    "        mask  = []\n",
    "        \n",
    "        for id_name in files_batch:\n",
    "            _img, _mask = self.__load__(id_name)\n",
    "            image.append(_img)\n",
    "            mask.append(_mask)\n",
    "            \n",
    "        image = np.array(image)\n",
    "        mask  = np.array(mask)\n",
    "        \n",
    "        return image, mask\n",
    "    \n",
    "    def on_epoch_end(self):\n",
    "        pass\n",
    "    \n",
    "    def __len__(self):\n",
    "        return int(np.ceil(len(self.ids)/float(self.batch_size)))"
   ]
  },
  {
   "cell_type": "code",
   "execution_count": 59,
   "metadata": {},
   "outputs": [],
   "source": [
    "# Filenames of test images from test_generator above\n",
    "test_ids = []\n",
    "for i in range(0, len(filenames)):\n",
    "    test_ids.append(str(filenames[i].split(\".\")[0].split(\"/\")[1]))\n",
    "\n",
    "test_ids = (np.sort(np.array(test_ids).astype(int))).astype(str)"
   ]
  },
  {
   "cell_type": "code",
   "execution_count": 60,
   "metadata": {},
   "outputs": [
    {
     "name": "stdout",
     "output_type": "stream",
     "text": [
      "((127, 128, 128, 3), (127, 128, 128, 1))\n"
     ]
    }
   ],
   "source": [
    "train_path = \"/Users/ChristianHaroldNunez/Desktop/colons/CVC-ClinicDB/\"\n",
    "test_gen = DataGen(test_ids, train_path, image_size=image_size, batch_size=len(test_ids))\n",
    "\n",
    "x, y = test_gen.__getitem__(0)\n",
    "print(x.shape, y.shape)"
   ]
  },
  {
   "cell_type": "code",
   "execution_count": 61,
   "metadata": {},
   "outputs": [],
   "source": [
    "model = UNet()\n",
    "adam = keras.optimizers.Adam(lr=.0001)\n",
    "model.compile(optimizer=adam, loss=dice_coef_loss, metrics=[dice_coef, \"binary_accuracy\", 'mse'])\n",
    "model.load_weights(\"data_aug_HP4_dataaug2_adam_60_120_120.h5\")"
   ]
  },
  {
   "cell_type": "code",
   "execution_count": 62,
   "metadata": {},
   "outputs": [],
   "source": [
    "result = model.predict(x)\n",
    "#result = result > 0.5"
   ]
  },
  {
   "cell_type": "code",
   "execution_count": 93,
   "metadata": {},
   "outputs": [],
   "source": [
    "smooth = 1\n",
    "def dice_coef_analysis(y_true, y_pred):\n",
    "    y_true_f = y_true.flatten()\n",
    "    y_pred_f = y_pred.flatten()\n",
    "    intersection = np.sum(y_true_f * y_pred_f)\n",
    "    return (2. * intersection + smooth) / (np.sum(y_true_f) + np.sum(y_pred_f) + smooth)\n",
    "\n",
    "dice_per_pic = []\n",
    "for i in range(0, 127):\n",
    "    dice = dice_coef_analysis(y[i], result[i])\n",
    "    dice_per_pic.append(dice)\n",
    "    tot = tot + dice"
   ]
  },
  {
   "cell_type": "code",
   "execution_count": 70,
   "metadata": {},
   "outputs": [],
   "source": [
    "# Sort the dice coefficients into the respective sequences\n",
    "a = [50, 67, 78, 103, 126, 151, 177] - 50*np.ones(7) # First list are sequence specific indices\n",
    "a = a.astype(int)\n",
    "# Sorting the test sets into the sequences 3-8 (6 sets):\n",
    "seqs = []\n",
    "for i in range(0, 6):\n",
    "    seq = []\n",
    "    for j in range(a[i], a[i+1]):\n",
    "        seq.append(dice_per_pic[j])\n",
    "    seqs.append(seq)"
   ]
  },
  {
   "cell_type": "code",
   "execution_count": 92,
   "metadata": {},
   "outputs": [
    {
     "data": {
      "image/png": "[encoded data removed]",
      "text/plain": [
       "<matplotlib.figure.Figure at 0x182ed35a10>"
      ]
     },
     "metadata": {},
     "output_type": "display_data"
    }
   ],
   "source": [
    "# Creating a stacked histogram to show how the sequences fall into the dice coefficient bins\n",
    "ls = np.array([\"Seq 3\",\"Seq 4\",\"Seq 5\",\"Seq 6\",\"Seq 7\",\"Seq 8\"])\n",
    "plt.hist([seqs[0], seqs[1], seqs[2], seqs[3], seqs[4], seqs[5]], bins=20, label=ls, stacked=True)\n",
    "plt.xlabel(\"Dice coefficient\")\n",
    "plt.ylabel(\"Count\")\n",
    "plt.title(\"Dice Coefficients of Predictions by Sequence\")\n",
    "plt.legend(fancybox=True)\n",
    "plt.savefig(\"DiceCoefficientsbySequence.png\")"
   ]
  },
  {
   "cell_type": "code",
   "execution_count": 55,
   "metadata": {},
   "outputs": [
    {
     "data": {
      "text/plain": [
       "<matplotlib.image.AxesImage at 0x183bfc1c10>"
      ]
     },
     "execution_count": 55,
     "metadata": {},
     "output_type": "execute_result"
    },
    {
     "data": {
      "image/png": "[encoded data removed]",
      "text/plain": [
       "<matplotlib.figure.Figure at 0x182cd4a090>"
      ]
     },
     "metadata": {},
     "output_type": "display_data"
    }
   ],
   "source": [
    "n = 1\n",
    "fig, ax = plt.subplots(1, 3)\n",
    "\n",
    "# Predicted Mask\n",
    "ax[2].set_title(\"Actual Mask\")\n",
    "ax[2].imshow(np.reshape(y[n]*255, (image_size, image_size)), cmap=\"gray\")\n",
    "\n",
    "# Actual Mask'\n",
    "ax[1].set_title(\"Ground Truth Mask\")\n",
    "ax[1].imshow(np.reshape(result[n]*255, (image_size, image_size)), cmap=\"gray\")\n",
    "\n",
    "# Actual Image\n",
    "ax[0].set_title(\"Actual Image\")\n",
    "ax[0].imshow(np.reshape(x[n][:,:,0]*255, (image_size, image_size)), cmap=\"gray\")"
   ]
  },
  {
   "cell_type": "code",
   "execution_count": 125,
   "metadata": {},
   "outputs": [],
   "source": [
    "fig, ax = plt.subplots(1, 3)\n",
    "\n",
    "# SAVE ALL TEST_IMAGE TRIPLETS FOR VIEWING\n",
    "for n in range(len(test_ids)):\n",
    "    ax[2].set_title(\"Ground Truth Mask\")\n",
    "    ax[2].imshow(np.reshape(y[n]*255, (image_size, image_size)), cmap=\"gray\")\n",
    "\n",
    "    # Actual Mask'\n",
    "    ax[1].set_title(\"Predicted Mask\")\n",
    "    ax[1].imshow(np.reshape(result[n]*255, (image_size, image_size)), cmap=\"gray\")\n",
    "\n",
    "    # Actual Image\n",
    "    ax[0].set_title(\"Actual Image\")\n",
    "    ax[0].imshow(np.reshape(x[n][:,:,0]*255, (image_size, image_size)), cmap=\"gray\")\n",
    "\n",
    "    plt.savefig(\"/Users/ChristianHaroldNunez/Desktop/colons/CVC-ClinicDB/results/saved_test_figs_TEST_data_aug_HP4_dataaug2_adam_60_120_120_id\"+str(test_ids[n]))\n",
    "    \n",
    "plt.close()"
   ]
  }
 ],
 "metadata": {
  "kernelspec": {
   "display_name": "Python 2",
   "language": "python",
   "name": "python2"
  },
  "language_info": {
   "codemirror_mode": {
    "name": "ipython",
    "version": 2
   },
   "file_extension": ".py",
   "mimetype": "text/x-python",
   "name": "python",
   "nbconvert_exporter": "python",
   "pygments_lexer": "ipython2",
   "version": "2.7.14"
  }
 },
 "nbformat": 4,
 "nbformat_minor": 2
}
